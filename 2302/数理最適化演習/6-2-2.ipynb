{
 "cells": [
  {
   "cell_type": "markdown",
   "metadata": {},
   "source": [
    "# PuLPモジュールを用いた最大流問題の最適解の計算\n",
    "## Pandasを使用しない場合\n",
    "## PuLPモジュール読み込み"
   ]
  },
  {
   "cell_type": "code",
   "execution_count": 1,
   "metadata": {},
   "outputs": [],
   "source": [
    "import pulp"
   ]
  },
  {
   "cell_type": "markdown",
   "metadata": {},
   "source": [
    "## 点の集合，枝の集合，容量を定義\n",
    "点（地点）の集合は点のリストとして定義する．\n",
    "枝（地点間を結ぶ道路）は，枝(i,j)をタプル(i,j)で表し，そのリストとして枝の集合を定義する．\n",
    "容量は枝(i,j)をキーとする辞書として定義する．\n",
    "始点sと終点tもここで定義しておく．"
   ]
  },
  {
   "cell_type": "code",
   "execution_count": 2,
   "metadata": {},
   "outputs": [],
   "source": [
    "V = [i+1 for i in range(7)]\n",
    "E = [(1,2), (1,3), (2,1), (2,4), (2,5), (3,4), (3,6), (4,7), (5,7), (6,7), (7,4)]\n",
    "U = {(1,2):3, (1,3):5, (2,1):5, (2,4):2, (2,5):2, (3,4):3, (3,6):3, (4,7):2, (5,7):3, (6,7):4, (7,4):3}\n",
    "s = 1\n",
    "t = 7"
   ]
  },
  {
   "cell_type": "markdown",
   "metadata": {},
   "source": [
    "## 決定変数の定義\n",
    "各枝の流量xは枝をキーとする辞書として定義する．\n",
    "非負条件はlowBound=0，容量制約はupBound=U[e]で設定する．\n",
    "ここでlowBount=, upBound=は省略可．\n",
    "始点における正味の流出量zは別に定義する．"
   ]
  },
  {
   "cell_type": "code",
   "execution_count": 3,
   "metadata": {},
   "outputs": [],
   "source": [
    "x = {e:pulp.LpVariable(f'x{e[0]}_{e[1]}', lowBound=0, upBound=U[e]) for e in E} # upBound=U[e] 容量制約\n",
    "z = pulp.LpVariable('z')"
   ]
  },
  {
   "cell_type": "markdown",
   "metadata": {},
   "source": [
    "## 問題の定義\n",
    "目的関数はzで，これを最大化する．"
   ]
  },
  {
   "cell_type": "code",
   "execution_count": 4,
   "metadata": {},
   "outputs": [],
   "source": [
    "p = pulp.LpProblem('最大流問題', sense=pulp.LpMaximize)\n",
    "p += z, '目的関数　流量'"
   ]
  },
  {
   "cell_type": "markdown",
   "metadata": {},
   "source": [
    "点iに入る枝の集合をinflow，出る枝の集合をoutflowとする．\n",
    "各枝eを探索し，e[1] == i，すなわち枝eが(*,i)なら点iに入る枝なので，eをinflowに追加する．\n",
    "inflow.append(e)はリストinflowにeを追加している．\n",
    "e[0] == i，すなわち枝eが(i,*)なら点iから出る枝なので，eをoutflowに追加する．\n",
    "inflowとoutflowが決まったら，出る枝に相当する変数の和から入る枝に相当する変数の和を引き，これをnet_outflowとする．\n",
    "点iが始点sの場合は，net_outflowはz，点iが終点tの場合は，net_outflowは-z，点iが始点と終点以外の場合はnet_flowは0になる．"
   ]
  },
  {
   "cell_type": "code",
   "execution_count": 5,
   "metadata": {},
   "outputs": [
    {
     "data": {
      "text/plain": [
       "最大流問題:\n",
       "MAXIMIZE\n",
       "1*z + 0\n",
       "SUBJECT TO\n",
       "始点1: x1_2 + x1_3 - x2_1 - z = 0\n",
       "\n",
       "点2: - x1_2 + x2_1 + x2_4 + x2_5 = 0\n",
       "\n",
       "点3: - x1_3 + x3_4 + x3_6 = 0\n",
       "\n",
       "点4: - x2_4 - x3_4 + x4_7 - x7_4 = 0\n",
       "\n",
       "点5: - x2_5 + x5_7 = 0\n",
       "\n",
       "点6: - x3_6 + x6_7 = 0\n",
       "\n",
       "終点7: - x4_7 - x5_7 - x6_7 + x7_4 + z = 0\n",
       "\n",
       "VARIABLES\n",
       "x1_2 <= 3 Continuous\n",
       "x1_3 <= 5 Continuous\n",
       "x2_1 <= 5 Continuous\n",
       "x2_4 <= 2 Continuous\n",
       "x2_5 <= 2 Continuous\n",
       "x3_4 <= 3 Continuous\n",
       "x3_6 <= 3 Continuous\n",
       "x4_7 <= 2 Continuous\n",
       "x5_7 <= 3 Continuous\n",
       "x6_7 <= 4 Continuous\n",
       "x7_4 <= 3 Continuous\n",
       "z free Continuous"
      ]
     },
     "execution_count": 5,
     "metadata": {},
     "output_type": "execute_result"
    }
   ],
   "source": [
    "# 流量保存制約\n",
    "for i in V:\n",
    "    inflow = []\n",
    "    outflow = []\n",
    "    for e in E:\n",
    "        if e[1] == i:\n",
    "            inflow.append(e)\n",
    "        if e[0] == i:\n",
    "            outflow.append(e)\n",
    "    net_outflow = pulp.lpSum(x[e] for e in outflow) - pulp.lpSum(x[e] for e in inflow)\n",
    "    if i == s:\n",
    "        p += net_outflow == z, f'始点{i}'\n",
    "    elif i == t:\n",
    "        p += net_outflow == -z, f'終点{i}'\n",
    "    else:\n",
    "        p += net_outflow == 0, f'点{i}'\n",
    "p"
   ]
  },
  {
   "cell_type": "markdown",
   "metadata": {},
   "source": [
    "## 最適解の計算と計算結果の読み取り"
   ]
  },
  {
   "cell_type": "code",
   "execution_count": 6,
   "metadata": {},
   "outputs": [],
   "source": [
    "result = p.solve()"
   ]
  },
  {
   "cell_type": "code",
   "execution_count": 7,
   "metadata": {},
   "outputs": [
    {
     "data": {
      "text/plain": [
       "'Optimal'"
      ]
     },
     "execution_count": 7,
     "metadata": {},
     "output_type": "execute_result"
    }
   ],
   "source": [
    "pulp.LpStatus[result]"
   ]
  },
  {
   "cell_type": "code",
   "execution_count": 8,
   "metadata": {},
   "outputs": [
    {
     "data": {
      "text/plain": [
       "7.0"
      ]
     },
     "execution_count": 8,
     "metadata": {},
     "output_type": "execute_result"
    }
   ],
   "source": [
    "pulp.value(p.objective)"
   ]
  },
  {
   "cell_type": "code",
   "execution_count": 9,
   "metadata": {},
   "outputs": [
    {
     "name": "stdout",
     "output_type": "stream",
     "text": [
      "x1_2 = 2.0\n",
      "x1_3 = 5.0\n",
      "x2_5 = 2.0\n",
      "x3_4 = 2.0\n",
      "x3_6 = 3.0\n",
      "x4_7 = 2.0\n",
      "x5_7 = 2.0\n",
      "x6_7 = 3.0\n",
      "z = 7.0\n"
     ]
    }
   ],
   "source": [
    "for v in p.variables():\n",
    "    if pulp.value(v) > 0:\n",
    "        print(f'{v} = {pulp.value(v)}')"
   ]
  },
  {
   "cell_type": "markdown",
   "metadata": {},
   "source": [
    "最適解は，\n",
    "x1_2 = 2, x1_3 = 5, x2_1 = 0, x2_4 = 0, x2_5 = 2, x3_4 = 2, x3_6 = 3, x4_7 = 2, x5_7 = 2, x6_7 = 3, x7_4 = 0, z= 7.0\n",
    "で，始点から終点までは最大7流すことができる．\n",
    "\n",
    "例えば，x1_2  = 3, x1_3 = 4 ということで，始点1から点2へは容量いっぱいの3流して，始点1から点3へは容量より1少ない4流している．始点1からの流出量は x1_2 + x1_3 = 7で，流入量はx2_1 = 0 である．すなわち，始点1の正味の流出量は7である．\n",
    "\n",
    "終点7の流入量は x4_7 + x5_7 + x6_7 = 7 で，流出量は x7_4 = 0 である．すなわち，終点7の正味の流入量は7で，確かに，始点1の正味の流出量と終点7の正味の流入量が等しくなっている．"
   ]
  },
  {
   "cell_type": "code",
   "execution_count": null,
   "metadata": {},
   "outputs": [],
   "source": []
  }
 ],
 "metadata": {
  "kernelspec": {
   "display_name": "Python 3 (ipykernel)",
   "language": "python",
   "name": "python3"
  },
  "language_info": {
   "codemirror_mode": {
    "name": "ipython",
    "version": 3
   },
   "file_extension": ".py",
   "mimetype": "text/x-python",
   "name": "python",
   "nbconvert_exporter": "python",
   "pygments_lexer": "ipython3",
   "version": "3.9.13"
  }
 },
 "nbformat": 4,
 "nbformat_minor": 2
}
