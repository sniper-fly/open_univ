{
 "cells": [
  {
   "cell_type": "markdown",
   "metadata": {},
   "source": [
    "# PuLPモジュールを用いたナップサック問題の最適解の計算\n",
    "## PuLPモジュール読み込み"
   ]
  },
  {
   "cell_type": "code",
   "execution_count": 1,
   "metadata": {},
   "outputs": [],
   "source": [
    "import pulp"
   ]
  },
  {
   "cell_type": "markdown",
   "metadata": {},
   "source": [
    "## 目的関数の係数および制約条件左辺の係数を定義\n",
    "変数が多いので，効率的な記述のため，目的関数の係数および制約条件左辺の係数を辞書として定義する．\n",
    "辞書はキーと値の組の集まりで，{key1:value1, key2:value2, key3:value3}のように書く．\n",
    "キーにより要素の値を取りだしたり，代入したりすることができる．\n",
    "例えば，    \n",
    "    \n",
    "    d1 = {3:4, 'a':5, 2:'abc'}\n",
    "という辞書を作ったとする．\n",
    "d1の要素の値は，d1[3], d1['a'], d1[2]により得ることができ，各々4, 5, 'abc'を得る．\n",
    "複数の要素をまとめたデータ型としては，リストやタプルというデータ型があるが，これらにおける要素へのアクセスはキーではなくく，要素の並び順であるインデックスにより行う．\n",
    "リストやタプルの先頭の要素のインデックスは0なので，「品物1から品物5」とは番号がずれる．\n",
    "ここでは，可能な限り問題を素直に定式化していくために，辞書を採用する．\n",
    "Cはキーが品物番号，値が品物の価値の辞書，Aはキーが品物番号，値が重さの辞書とする．"
   ]
  },
  {
   "cell_type": "code",
   "execution_count": 2,
   "metadata": {},
   "outputs": [],
   "source": [
    "C = {1:9, 2:7, 3:6, 4:5, 5:3} # 価値\n",
    "A = {1:6, 2:4, 3:5, 4:3, 5:3} # 重さ"
   ]
  },
  {
   "cell_type": "markdown",
   "metadata": {},
   "source": [
    "## 決定変数の定義\n",
    "決定変数x1～x5も{1:x1, 2:x2, 3:x3, 4:x4, 5:x5}という辞書にする．変数は，\n",
    "    \n",
    "    pulp.LpVariable(f'x{i+1}', cat=pulp.LpBinary)\n",
    "という形をとる．\n",
    "変数名はf-stringでf'x{i}'とすることで，品物の番号に相当する変数iが展開され，x1, x2, ..., x5となるようにする．\n",
    "ナップサック問題の決定変数は0/1の2値変数なので，cat=pulp.LpBinaryとする．品物の番号をキー，値をその品物をナップサックに詰めるかいなかを表す決定変数とする辞書は次のように作る．   "
   ]
  },
  {
   "cell_type": "code",
   "execution_count": 3,
   "metadata": {},
   "outputs": [],
   "source": [
    "x ={i:pulp.LpVariable(f'x{i}', cat=pulp.LpBinary) for i in C.keys()}"
   ]
  },
  {
   "cell_type": "markdown",
   "metadata": {},
   "source": [
    "{}内の前の部分は i:pulp.LpVariable() でキーと値の組になっている．後の部分は変数iに品物番号1～5を順番に代入している．C.keys()は先に定義した辞書Cのキーをすべて取り出す．このように定義することによりxは以下のようになる．"
   ]
  },
  {
   "cell_type": "code",
   "execution_count": 4,
   "metadata": {},
   "outputs": [
    {
     "data": {
      "text/plain": [
       "{1: x1, 2: x2, 3: x3, 4: x4, 5: x5}"
      ]
     },
     "execution_count": 4,
     "metadata": {},
     "output_type": "execute_result"
    }
   ],
   "source": [
    "x"
   ]
  },
  {
   "cell_type": "markdown",
   "metadata": {},
   "source": [
    "## 問題の定義\n",
    "pulp.LpProblemで問題オブジェクトを生成した後，目的関数と制約条件を設定する．\n",
    "目的関数の設定における\n",
    "\n",
    "    pulp.lpSum(C[i]*x[i] for i in x.keys())\n",
    "は，C[i]*x[i]のi=1からi=5までの和を表していて，$\\sum_{i=1}^{5}c_i x_i$に相当する．\n",
    "制約条件もpulp.lpSum()を用いて同様に書くことができる．"
   ]
  },
  {
   "cell_type": "code",
   "execution_count": 5,
   "metadata": {},
   "outputs": [
    {
     "data": {
      "text/plain": [
       "ナップサック問題:\n",
       "MAXIMIZE\n",
       "9*x1 + 7*x2 + 6*x3 + 5*x4 + 3*x5 + 0\n",
       "SUBJECT TO\n",
       "重量制約: 6 x1 + 4 x2 + 5 x3 + 3 x4 + 3 x5 <= 17\n",
       "\n",
       "VARIABLES\n",
       "0 <= x1 <= 1 Integer\n",
       "0 <= x2 <= 1 Integer\n",
       "0 <= x3 <= 1 Integer\n",
       "0 <= x4 <= 1 Integer\n",
       "0 <= x5 <= 1 Integer"
      ]
     },
     "execution_count": 5,
     "metadata": {},
     "output_type": "execute_result"
    }
   ],
   "source": [
    "p = pulp.LpProblem('ナップサック問題', sense=pulp.LpMaximize)\n",
    "p += pulp.lpSum(C[i]*x[i] for i in x.keys()), '目的関数　詰めた品物の価値'\n",
    "p += pulp.lpSum(A[i]*x[i] for i in x.keys()) <= 17, '重量制約'\n",
    "p"
   ]
  },
  {
   "cell_type": "markdown",
   "metadata": {},
   "source": [
    "## 最適解の計算と結果の読み取り"
   ]
  },
  {
   "cell_type": "code",
   "execution_count": 6,
   "metadata": {},
   "outputs": [],
   "source": [
    "result = p.solve()"
   ]
  },
  {
   "cell_type": "code",
   "execution_count": 7,
   "metadata": {},
   "outputs": [
    {
     "data": {
      "text/plain": [
       "'Optimal'"
      ]
     },
     "execution_count": 7,
     "metadata": {},
     "output_type": "execute_result"
    }
   ],
   "source": [
    "pulp.LpStatus[result]"
   ]
  },
  {
   "cell_type": "code",
   "execution_count": 8,
   "metadata": {},
   "outputs": [
    {
     "data": {
      "text/plain": [
       "24.0"
      ]
     },
     "execution_count": 8,
     "metadata": {},
     "output_type": "execute_result"
    }
   ],
   "source": [
    "pulp.value(p.objective)"
   ]
  },
  {
   "cell_type": "code",
   "execution_count": 9,
   "metadata": {},
   "outputs": [
    {
     "name": "stdout",
     "output_type": "stream",
     "text": [
      "x1 = 1\n",
      "x2 = 1\n",
      "x3 = 0\n",
      "x4 = 1\n",
      "x5 = 1\n"
     ]
    }
   ],
   "source": [
    "for v in p.variables():\n",
    "    print(f'{v} = {pulp.value(v):.0f}')"
   ]
  },
  {
   "cell_type": "markdown",
   "metadata": {},
   "source": [
    "{pulp.value(v):.0f}の :.0f は小数点以下を表示しないようにする．\n",
    "最適解は，x1 = x2 = x4 = x5 =1, x3 = 0で，品物1, 2, 4, 5をナップサックに詰め，品物3をナップサックに詰め込まないのが，ナップサック内の品物の価値の合計を最大にし，その値は24である．"
   ]
  },
  {
   "cell_type": "code",
   "execution_count": null,
   "metadata": {},
   "outputs": [],
   "source": []
  }
 ],
 "metadata": {
  "kernelspec": {
   "display_name": "Python 3",
   "language": "python",
   "name": "python3"
  },
  "language_info": {
   "codemirror_mode": {
    "name": "ipython",
    "version": 3
   },
   "file_extension": ".py",
   "mimetype": "text/x-python",
   "name": "python",
   "nbconvert_exporter": "python",
   "pygments_lexer": "ipython3",
   "version": "3.7.0"
  }
 },
 "nbformat": 4,
 "nbformat_minor": 2
}
