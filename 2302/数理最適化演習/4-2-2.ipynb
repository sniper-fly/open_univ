{
 "cells": [
  {
   "cell_type": "markdown",
   "metadata": {},
   "source": [
    "# PuLPモジュールを用いた輸送問題の最適解の計算\n",
    "## Pandasを使用しない場合\n",
    "## PuLPモジュール読み込み"
   ]
  },
  {
   "cell_type": "code",
   "execution_count": 8,
   "metadata": {},
   "outputs": [],
   "source": [
    "import pulp"
   ]
  },
  {
   "cell_type": "markdown",
   "metadata": {},
   "source": [
    "## 目的関数の係数および制約条件左辺の係数を定義\n",
    "送出元と受取先を各々リストとして定義する．送出元はS1とS2なので，送出元の番号を並べたリストS = [1,2]で表す．\n",
    "リストは要素を並べて[]で囲んで表す．リストにおける要素へのアクセスは要素の並び順であるインデックスにより行う．\n",
    "先頭の要素のインデックスは0であるから，先頭の要素へのアクセスはS[0]，2番目の要素へのアクセスはS[1]により行う．\n",
    "同様に受取先D1,D2,D3をまとめてD = [1,2,3]で表す．\n",
    "\n",
    "Cは輸送コストで，枝をキー，コストを値とする辞書で表す．\n",
    "Cのキーは(1,1), (1,2),...となっているが，要素を並べて()で囲んだデータ型はタプルという．\n",
    "タプルはリストに似ているが，一旦定義したタプルの要素に代入ができない，辞書のキーにすることができるという点でリストとは異なる．\n",
    "\n",
    "Supplyは送出元の送出可能量で，送出元の番号をキーとする辞書で表す．\n",
    "Demandは受取先の受取量で，受取先の番号をキーとする辞書で表す．"
   ]
  },
  {
   "cell_type": "code",
   "execution_count": 3,
   "metadata": {},
   "outputs": [],
   "source": [
    "S = [1,2] # 送出元の番号\n",
    "D = [1,2,3] # 受取先の番号\n",
    "C = {(1,1):10, (1,2):6, (1,3):16, (2,1):8, (2,2):8, (2,3):10} # 輸送コスト\n",
    "Supply = {1:100, 2:180} # 送出元の送出可能量\n",
    "Demand = {1:120, 2:40, 3:80} # 受取先の受取量"
   ]
  },
  {
   "cell_type": "markdown",
   "metadata": {},
   "source": [
    "## 決定変数の定義\n",
    "(送出元,受取先)をキーとする辞書として定義する．SとDの要素の組み合わせに対して変数を定義するため，以下のように for による繰り返しを2重にする．"
   ]
  },
  {
   "cell_type": "code",
   "execution_count": 4,
   "metadata": {},
   "outputs": [
    {
     "data": {
      "text/plain": [
       "{(1, 1): x1_1,\n",
       " (1, 2): x1_2,\n",
       " (1, 3): x1_3,\n",
       " (2, 1): x2_1,\n",
       " (2, 2): x2_2,\n",
       " (2, 3): x2_3}"
      ]
     },
     "execution_count": 4,
     "metadata": {},
     "output_type": "execute_result"
    }
   ],
   "source": [
    "x ={(i,j):pulp.LpVariable(f'x{i}_{j}',0) for i in S for j in D}\n",
    "x"
   ]
  },
  {
   "cell_type": "markdown",
   "metadata": {},
   "source": [
    "## 問題の定義\n",
    "各決定変数に輸送コストを乗じたものの和として目的関数を定義している．決定変数はSとDの要素の組み合わせに対応して定義されているので，総和を求めるにはlpSum()内で for による繰り返しを2重にする．\n",
    "\n",
    "各送出元の送出可能量制約を設定する．for文で繰り返すことにより，送出元の数が増えたときには効率的な記述になる．\n",
    "同様に，各受取先の受取量を設定する．"
   ]
  },
  {
   "cell_type": "code",
   "execution_count": 7,
   "metadata": {},
   "outputs": [
    {
     "data": {
      "text/plain": [
       "輸送問題:\n",
       "MINIMIZE\n",
       "10*x1_1 + 6*x1_2 + 16*x1_3 + 8*x2_1 + 8*x2_2 + 10*x2_3 + 0\n",
       "SUBJECT TO\n",
       "送出元1の送出可能量制約: x1_1 + x1_2 + x1_3 <= 100\n",
       "\n",
       "送出元2の送出可能量制約: x2_1 + x2_2 + x2_3 <= 180\n",
       "\n",
       "受取先1の受取量制約: x1_1 + x2_1 = 120\n",
       "\n",
       "受取先2の受取量制約: x1_2 + x2_2 = 40\n",
       "\n",
       "受取先3の受取量制約: x1_3 + x2_3 = 80\n",
       "\n",
       "VARIABLES\n",
       "x1_1 Continuous\n",
       "x1_2 Continuous\n",
       "x1_3 Continuous\n",
       "x2_1 Continuous\n",
       "x2_2 Continuous\n",
       "x2_3 Continuous"
      ]
     },
     "execution_count": 7,
     "metadata": {},
     "output_type": "execute_result"
    }
   ],
   "source": [
    "p = pulp.LpProblem('輸送問題', sense=pulp.LpMinimize)\n",
    "p += pulp.lpSum(C[(i,j)]*x[(i,j)] for i in S for j in D), '目的関数　輸送コスト'\n",
    "\n",
    "# 各送出元の送出可能量制約\n",
    "for i in S:\n",
    "    p += pulp.lpSum(x[(i,j)] for j in D) <= Supply[i], f'送出元{i}の送出可能量制約'\n",
    "    \n",
    "# 各受取先の受取量制約\n",
    "for j in D:\n",
    "    p += pulp.lpSum(x[(i,j)] for i in S) == Demand[j] , f'受取先{j}の受取量制約'\n",
    "p"
   ]
  },
  {
   "cell_type": "markdown",
   "metadata": {},
   "source": [
    "## 最適解の計算と結果の読み取り"
   ]
  },
  {
   "cell_type": "code",
   "execution_count": 7,
   "metadata": {},
   "outputs": [],
   "source": [
    "result = p.solve()"
   ]
  },
  {
   "cell_type": "code",
   "execution_count": 8,
   "metadata": {},
   "outputs": [
    {
     "data": {
      "text/plain": [
       "'Optimal'"
      ]
     },
     "execution_count": 8,
     "metadata": {},
     "output_type": "execute_result"
    }
   ],
   "source": [
    "pulp.LpStatus[result]"
   ]
  },
  {
   "cell_type": "code",
   "execution_count": 9,
   "metadata": {},
   "outputs": [
    {
     "data": {
      "text/plain": [
       "2040.0"
      ]
     },
     "execution_count": 9,
     "metadata": {},
     "output_type": "execute_result"
    }
   ],
   "source": [
    "pulp.value(p.objective)"
   ]
  },
  {
   "cell_type": "code",
   "execution_count": 14,
   "metadata": {},
   "outputs": [
    {
     "name": "stdout",
     "output_type": "stream",
     "text": [
      "x1_1 = 20.0\n",
      "x1_2 = 40.0\n",
      "x1_3 = 0.0\n",
      "x2_1 = 100.0\n",
      "x2_2 = 0.0\n",
      "x2_3 = 80.0\n"
     ]
    }
   ],
   "source": [
    "for v in p.variables():\n",
    "    print(f'{v} = {pulp.value(v)}')"
   ]
  },
  {
   "cell_type": "markdown",
   "metadata": {},
   "source": [
    "S1からD1に20トン，S1からD2に40トン，S2からD1に100トン，S2からD3に80トン輸送するとき，輸送コストは最小になり，そのときのコストは2040万円となる．"
   ]
  },
  {
   "cell_type": "code",
   "execution_count": null,
   "metadata": {},
   "outputs": [],
   "source": []
  }
 ],
 "metadata": {
  "kernelspec": {
   "display_name": "Python 3",
   "language": "python",
   "name": "python3"
  },
  "language_info": {
   "codemirror_mode": {
    "name": "ipython",
    "version": 3
   },
   "file_extension": ".py",
   "mimetype": "text/x-python",
   "name": "python",
   "nbconvert_exporter": "python",
   "pygments_lexer": "ipython3",
   "version": "3.7.0"
  }
 },
 "nbformat": 4,
 "nbformat_minor": 2
}
