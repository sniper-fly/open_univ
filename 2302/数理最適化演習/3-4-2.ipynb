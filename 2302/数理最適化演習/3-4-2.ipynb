{
 "cells": [
  {
   "cell_type": "markdown",
   "metadata": {},
   "source": [
    "# PuLPモジュールを用いた資材切り出し問題の最適解の計算\n",
    "## PuLPモジュール読み込み"
   ]
  },
  {
   "cell_type": "code",
   "execution_count": 1,
   "metadata": {},
   "outputs": [],
   "source": [
    "import pulp"
   ]
  },
  {
   "cell_type": "markdown",
   "metadata": {},
   "source": [
    "## 変数の定義\n",
    "    pulp.LpVariable('xA', 0, cat=pulp.LpInteger)\n",
    "資材切り出し問題の決定変数は非負整数なので，下限値(lowBound)を0，cat=pulp.LpIntegerとする．"
   ]
  },
  {
   "cell_type": "code",
   "execution_count": 2,
   "metadata": {},
   "outputs": [],
   "source": [
    "xA = pulp.LpVariable('xA', 0, cat=pulp.LpInteger)\n",
    "xB = pulp.LpVariable('xB', 0, cat=pulp.LpInteger)\n",
    "xC = pulp.LpVariable('xC', 0, cat=pulp.LpInteger)\n",
    "xD = pulp.LpVariable('xD', 0, cat=pulp.LpInteger)"
   ]
  },
  {
   "cell_type": "markdown",
   "metadata": {},
   "source": [
    "## 問題の定義"
   ]
  },
  {
   "cell_type": "code",
   "execution_count": 3,
   "metadata": {},
   "outputs": [
    {
     "data": {
      "text/plain": [
       "資材切り出し問題:\n",
       "MINIMIZE\n",
       "1*xA + 1*xB + 1*xC + 1*xD + 0\n",
       "SUBJECT TO\n",
       "長さ70の必要部品数: xA >= 12\n",
       "\n",
       "長さ40の必要部品数: 2 xB + xC >= 34\n",
       "\n",
       "長さ28の必要部品数: xA + 2 xC + 3 xD >= 62\n",
       "\n",
       "VARIABLES\n",
       "0 <= xA Integer\n",
       "0 <= xB Integer\n",
       "0 <= xC Integer\n",
       "0 <= xD Integer"
      ]
     },
     "execution_count": 3,
     "metadata": {},
     "output_type": "execute_result"
    }
   ],
   "source": [
    "p = pulp.LpProblem('資材切り出し問題', sense=pulp.LpMinimize)\n",
    "p += xA + xB + xC + xD, '目的関数　各パターンで切り出した母材の本数の合計'\n",
    "p += xA >= 12, '長さ70の必要部品数'\n",
    "p += 2*xB + xC >= 34, '長さ40の必要部品数'\n",
    "p += xA + 2*xC + 3*xD >= 62, '長さ28の必要部品数'\n",
    "p"
   ]
  },
  {
   "cell_type": "markdown",
   "metadata": {},
   "source": [
    "## 最適解の計算と結果の読み取り"
   ]
  },
  {
   "cell_type": "code",
   "execution_count": 4,
   "metadata": {},
   "outputs": [],
   "source": [
    "result = p.solve()"
   ]
  },
  {
   "cell_type": "code",
   "execution_count": 5,
   "metadata": {},
   "outputs": [
    {
     "data": {
      "text/plain": [
       "'Optimal'"
      ]
     },
     "execution_count": 5,
     "metadata": {},
     "output_type": "execute_result"
    }
   ],
   "source": [
    "pulp.LpStatus[result]"
   ]
  },
  {
   "cell_type": "code",
   "execution_count": 9,
   "metadata": {},
   "outputs": [
    {
     "data": {
      "text/plain": [
       "42.0"
      ]
     },
     "execution_count": 9,
     "metadata": {},
     "output_type": "execute_result"
    }
   ],
   "source": [
    "pulp.value(p.objective)"
   ]
  },
  {
   "cell_type": "code",
   "execution_count": 7,
   "metadata": {},
   "outputs": [
    {
     "name": "stdout",
     "output_type": "stream",
     "text": [
      "xA = 12\n",
      "xB = 5\n",
      "xC = 25\n",
      "xD = 0\n"
     ]
    }
   ],
   "source": [
    "for v in p.variables():\n",
    "    print(f'{v} = {pulp.value(v):.0f}') # 小数点以下を表示しない"
   ]
  },
  {
   "cell_type": "code",
   "execution_count": null,
   "metadata": {},
   "outputs": [],
   "source": []
  }
 ],
 "metadata": {
  "kernelspec": {
   "display_name": "Python 3",
   "language": "python",
   "name": "python3"
  },
  "language_info": {
   "codemirror_mode": {
    "name": "ipython",
    "version": 3
   },
   "file_extension": ".py",
   "mimetype": "text/x-python",
   "name": "python",
   "nbconvert_exporter": "python",
   "pygments_lexer": "ipython3",
   "version": "3.7.0"
  }
 },
 "nbformat": 4,
 "nbformat_minor": 2
}
