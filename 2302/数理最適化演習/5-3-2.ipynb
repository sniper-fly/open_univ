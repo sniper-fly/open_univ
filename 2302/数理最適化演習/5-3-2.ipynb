{
 "cells": [
  {
   "cell_type": "markdown",
   "metadata": {},
   "source": [
    "# PuLPモジュールを用いた最短路問題の最適解の計算\n",
    "## Pandasを使用しない場合\n",
    "## PuLPモジュール読み込み"
   ]
  },
  {
   "cell_type": "code",
   "execution_count": 1,
   "metadata": {},
   "outputs": [],
   "source": [
    "import pulp"
   ]
  },
  {
   "cell_type": "markdown",
   "metadata": {},
   "source": [
    "## 点の集合，枝の集合，目的関数の係数を定義\n",
    "点（地点）の集合は点のリストとして定義する．\n",
    "枝（地点間を結ぶ道路）は，枝(i,j)をタプル(i,j)で表し，そのリストとして枝の集合を定義する．\n",
    "枝の重み（地点間の距離）は枝(i,j)をキーとする辞書として定義する．\n",
    "始点sと終点tもここで定義しておく．"
   ]
  },
  {
   "cell_type": "code",
   "execution_count": 2,
   "metadata": {},
   "outputs": [],
   "source": [
    "V = [i+1 for i in range(6)]\n",
    "E = [(1,2), (1,3), (2,1), (2,3), (2,4), (3,1), (3,2), (3,5), (4,3), (4,6), (5,3), (5,6)]\n",
    "W = {(1,2):1, (1,3):5, (2,1):1, (2,3):2, (2,4):2, (3,1):5, (3,2):4, (3,5):2, (4,3):3, (4,6):3, (5,3):1, (5,6):4}\n",
    "s = 1\n",
    "t = 5"
   ]
  },
  {
   "cell_type": "markdown",
   "metadata": {},
   "source": [
    "## 決定変数の定義\n",
    "枝をキーとする辞書として定義する．"
   ]
  },
  {
   "cell_type": "code",
   "execution_count": 3,
   "metadata": {
    "scrolled": true
   },
   "outputs": [],
   "source": [
    "x = {e:pulp.LpVariable(f'x{e[0]}_{e[1]}', cat=pulp.LpBinary) for e in E}"
   ]
  },
  {
   "cell_type": "markdown",
   "metadata": {},
   "source": [
    "## 問題の定義\n",
    "各決定変数に重み(距離)を乗じたものの和を目的関数として設定する．決定変数は枝に対応して定義されているので，総和を求めるにはpulp.lpSum()内で枝に関して繰り返す．"
   ]
  },
  {
   "cell_type": "code",
   "execution_count": 4,
   "metadata": {},
   "outputs": [
    {
     "data": {
      "text/plain": [
       "最短路問題:\n",
       "MINIMIZE\n",
       "1*x1_2 + 5*x1_3 + 1*x2_1 + 2*x2_3 + 2*x2_4 + 5*x3_1 + 4*x3_2 + 2*x3_5 + 3*x4_3 + 3*x4_6 + 1*x5_3 + 4*x5_6 + 0\n",
       "SUBJECT TO\n",
       "始点1: x1_2 + x1_3 - x2_1 - x3_1 = 1\n",
       "\n",
       "中間点2: - x1_2 + x2_1 + x2_3 + x2_4 - x3_2 = 0\n",
       "\n",
       "中間点3: - x1_3 - x2_3 + x3_1 + x3_2 + x3_5 - x4_3 - x5_3 = 0\n",
       "\n",
       "中間点4: - x2_4 + x4_3 + x4_6 = 0\n",
       "\n",
       "終点5: - x3_5 + x5_3 + x5_6 = -1\n",
       "\n",
       "中間点6: - x4_6 - x5_6 = 0\n",
       "\n",
       "VARIABLES\n",
       "0 <= x1_2 <= 1 Integer\n",
       "0 <= x1_3 <= 1 Integer\n",
       "0 <= x2_1 <= 1 Integer\n",
       "0 <= x2_3 <= 1 Integer\n",
       "0 <= x2_4 <= 1 Integer\n",
       "0 <= x3_1 <= 1 Integer\n",
       "0 <= x3_2 <= 1 Integer\n",
       "0 <= x3_5 <= 1 Integer\n",
       "0 <= x4_3 <= 1 Integer\n",
       "0 <= x4_6 <= 1 Integer\n",
       "0 <= x5_3 <= 1 Integer\n",
       "0 <= x5_6 <= 1 Integer"
      ]
     },
     "execution_count": 4,
     "metadata": {},
     "output_type": "execute_result"
    }
   ],
   "source": [
    "p = pulp.LpProblem('最短路問題', sense=pulp.LpMinimize)\n",
    "p += pulp.lpSum(W[e]*x[e] for e in E), '目的関数　経路長'\n",
    "for i in V:\n",
    "    inflow = []\n",
    "    outflow = []\n",
    "    for e in E:\n",
    "        if e[1] == i:\n",
    "            inflow.append(e)\n",
    "        if e[0] == i:\n",
    "            outflow.append(e)\n",
    "    net_outflow = pulp.lpSum(x[e] for e in outflow) - pulp.lpSum(x[e] for e in inflow)\n",
    "    if i == s:\n",
    "        p += net_outflow == 1, f'始点{i}'\n",
    "    elif i == t:\n",
    "        p += net_outflow == -1, f'終点{i}'\n",
    "    else:\n",
    "        p += net_outflow == 0, f'中間点{i}'\n",
    "p"
   ]
  },
  {
   "cell_type": "markdown",
   "metadata": {},
   "source": [
    "点iに入る枝の集合をinflow，出る枝の集合をoutflowとする．\n",
    "各枝eを探索し，e[1] == i，すなわち枝eが(*,i)なら点iに入る枝なので，eをinflowに追加する．\n",
    "inflow.append(e)はリストinflowにeを追加している．\n",
    "e[0] == i，すなわち枝eが(i,*)なら点iから出る枝なので，eをoutflowに追加する．\n",
    "inflowとoutflowが決まったら，出る枝に相当する変数の和から入る枝に相当する変数の和を引き，これをnet_outflowとする．\n",
    "点iが始点sの場合は，net_outflowは1，点iが終点tの場合は，net_outflowは-1，点iが始点と終点以外の場合はnet_flowは0になる．"
   ]
  },
  {
   "cell_type": "markdown",
   "metadata": {},
   "source": [
    "## 最適解の計算と計算結果の読み取り"
   ]
  },
  {
   "cell_type": "code",
   "execution_count": 5,
   "metadata": {},
   "outputs": [],
   "source": [
    "result = p.solve()"
   ]
  },
  {
   "cell_type": "code",
   "execution_count": 6,
   "metadata": {},
   "outputs": [
    {
     "data": {
      "text/plain": [
       "'Optimal'"
      ]
     },
     "execution_count": 6,
     "metadata": {},
     "output_type": "execute_result"
    }
   ],
   "source": [
    "pulp.LpStatus[result]"
   ]
  },
  {
   "cell_type": "code",
   "execution_count": 7,
   "metadata": {},
   "outputs": [
    {
     "data": {
      "text/plain": [
       "5.0"
      ]
     },
     "execution_count": 7,
     "metadata": {},
     "output_type": "execute_result"
    }
   ],
   "source": [
    "pulp.value(p.objective)"
   ]
  },
  {
   "cell_type": "code",
   "execution_count": 8,
   "metadata": {},
   "outputs": [
    {
     "name": "stdout",
     "output_type": "stream",
     "text": [
      "x1_2 = 1\n",
      "x2_3 = 1\n",
      "x3_5 = 1\n"
     ]
    }
   ],
   "source": [
    "for v in p.variables():\n",
    "    if pulp.value(v) > 0:\n",
    "        print(f'{v} = {pulp.value(v):.0f}')"
   ]
  },
  {
   "cell_type": "markdown",
   "metadata": {},
   "source": [
    "最適解は x1_2 = x2_3 = x3_5 = 1，すなわち1→2→3→5が最短路で，その距離は5．"
   ]
  }
 ],
 "metadata": {
  "kernelspec": {
   "display_name": "Python 3 (ipykernel)",
   "language": "python",
   "name": "python3"
  },
  "language_info": {
   "codemirror_mode": {
    "name": "ipython",
    "version": 3
   },
   "file_extension": ".py",
   "mimetype": "text/x-python",
   "name": "python",
   "nbconvert_exporter": "python",
   "pygments_lexer": "ipython3",
   "version": "3.9.13"
  }
 },
 "nbformat": 4,
 "nbformat_minor": 2
}
