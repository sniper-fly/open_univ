{
 "cells": [
  {
   "cell_type": "markdown",
   "metadata": {},
   "source": [
    "# PuLPモジュールを用いた生食事問題の最適解の計算\n",
    "## PuLPモジュール読み込み\n",
    "モジュールの読み込みは\n",
    "    \n",
    "    import モジュール名\n",
    "により行う．"
   ]
  },
  {
   "cell_type": "code",
   "execution_count": 1,
   "metadata": {},
   "outputs": [],
   "source": [
    "import pulp"
   ]
  },
  {
   "cell_type": "markdown",
   "metadata": {},
   "source": [
    "## 決定変数の定義\n",
    "pulp.LpVariableで決定変数を定義する．"
   ]
  },
  {
   "cell_type": "code",
   "execution_count": 2,
   "metadata": {},
   "outputs": [],
   "source": [
    "xA = pulp.LpVariable('xA', 0) # 決定変数 xA >= 0\n",
    "xB = pulp.LpVariable('xB', 0) # 決定変数 xA >= 0\n",
    "xC = pulp.LpVariable('xC', 0) # 決定変数 xA >= 0"
   ]
  },
  {
   "cell_type": "markdown",
   "metadata": {},
   "source": [
    "決定変数xA, xB, xCは非負の連続値をとる変数\n",
    "\n",
    "## 問題の定義\n",
    "pulp.LpProblemで問題オブジェクトを生成した後，目的関数と制約条件を設定する．"
   ]
  },
  {
   "cell_type": "code",
   "execution_count": 3,
   "metadata": {},
   "outputs": [
    {
     "data": {
      "text/plain": [
       "食事問題:\n",
       "MINIMIZE\n",
       "75*xA + 62*xB + 50*xC + 0\n",
       "SUBJECT TO\n",
       "栄養素1の必要摂取量: 30 xA + 18 xB + 11 xC >= 150\n",
       "\n",
       "栄養素2の必要摂取量: 18 xA + 22 xB + 40 xC >= 100\n",
       "\n",
       "栄養素3の必要摂取量: 2 xA + 3 xB + 5 xC >= 15\n",
       "\n",
       "VARIABLES\n",
       "xA Continuous\n",
       "xB Continuous\n",
       "xC Continuous"
      ]
     },
     "execution_count": 3,
     "metadata": {},
     "output_type": "execute_result"
    }
   ],
   "source": [
    "p = pulp.LpProblem('食事問題', sense=pulp.LpMinimize) # 最小化問題\n",
    "p += 75*xA + 62*xB + 50*xC, '目的関数　価格'\n",
    "p += 30*xA + 18*xB + 11*xC >= 150, '栄養素1の必要摂取量'\n",
    "p += 18*xA + 22*xB + 40*xC >= 100, '栄養素2の必要摂取量'\n",
    "p += 2*xA + 3*xB + 5*xC >= 15, '栄養素3の必要摂取量'\n",
    "p"
   ]
  },
  {
   "cell_type": "markdown",
   "metadata": {},
   "source": [
    "食事問題は食品の価格を最小化する問題なので，sense=pulp.LpMinimizeとしている（省略可能）．\n",
    "\n",
    "以上の設定により問題pは以下のように定式化される．"
   ]
  },
  {
   "cell_type": "markdown",
   "metadata": {},
   "source": [
    "## 最適解の計算と結果の読み取り"
   ]
  },
  {
   "cell_type": "code",
   "execution_count": 4,
   "metadata": {},
   "outputs": [],
   "source": [
    "# 最適解を計算\n",
    "result = p.solve()"
   ]
  },
  {
   "cell_type": "code",
   "execution_count": 5,
   "metadata": {},
   "outputs": [
    {
     "data": {
      "text/plain": [
       "'Optimal'"
      ]
     },
     "execution_count": 5,
     "metadata": {},
     "output_type": "execute_result"
    }
   ],
   "source": [
    "# 最適解は得られたか？\n",
    "pulp.LpStatus[result]"
   ]
  },
  {
   "cell_type": "markdown",
   "metadata": {},
   "source": [
    "'Optimal'なので最適解が得られた．"
   ]
  },
  {
   "cell_type": "code",
   "execution_count": 6,
   "metadata": {},
   "outputs": [
    {
     "data": {
      "text/plain": [
       "401.3671875"
      ]
     },
     "execution_count": 6,
     "metadata": {},
     "output_type": "execute_result"
    }
   ],
   "source": [
    "# 目的関数の最適値\n",
    "pulp.value(p.objective)"
   ]
  },
  {
   "cell_type": "markdown",
   "metadata": {},
   "source": [
    "食品の価格の最小値は401.37円"
   ]
  },
  {
   "cell_type": "code",
   "execution_count": 7,
   "metadata": {},
   "outputs": [
    {
     "name": "stdout",
     "output_type": "stream",
     "text": [
      "xA = 4.5703125\n",
      "xB = 0.0\n",
      "xC = 1.171875\n"
     ]
    }
   ],
   "source": [
    "# 最適解\n",
    "for v in p.variables():\n",
    "    print(f'{v} = {pulp.value(v)}')"
   ]
  },
  {
   "cell_type": "markdown",
   "metadata": {},
   "source": [
    "食品Aを4.57 g，食品Cを1.17 g摂取し，食品Bは摂取しないとき，価格は最小になる．"
   ]
  },
  {
   "cell_type": "code",
   "execution_count": null,
   "metadata": {},
   "outputs": [],
   "source": []
  }
 ],
 "metadata": {
  "kernelspec": {
   "display_name": "Python 3",
   "language": "python",
   "name": "python3"
  },
  "language_info": {
   "codemirror_mode": {
    "name": "ipython",
    "version": 3
   },
   "file_extension": ".py",
   "mimetype": "text/x-python",
   "name": "python",
   "nbconvert_exporter": "python",
   "pygments_lexer": "ipython3",
   "version": "3.7.0"
  }
 },
 "nbformat": 4,
 "nbformat_minor": 2
}
