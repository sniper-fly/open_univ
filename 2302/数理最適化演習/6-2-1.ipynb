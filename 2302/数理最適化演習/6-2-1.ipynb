{
 "cells": [
  {
   "cell_type": "markdown",
   "metadata": {},
   "source": [
    "## PuLPモジュール読み込み"
   ]
  },
  {
   "cell_type": "code",
   "execution_count": 1,
   "metadata": {},
   "outputs": [],
   "source": [
    "import pulp"
   ]
  },
  {
   "cell_type": "markdown",
   "metadata": {},
   "source": [
    "## 点の集合，枝の集合，容量を定義"
   ]
  },
  {
   "cell_type": "code",
   "execution_count": 2,
   "metadata": {},
   "outputs": [],
   "source": [
    "V = [i+1 for i in range(5)]\n",
    "E = [(1,2), (1,3), (2,1), (2,3), (2,5),  (3,4), (3,5), (4,5), (5,3)]\n",
    "U = {(1,2):4, (1,3):3, (2,1):1, (2,3):4, (2,5):3, (3,4):3, (3,5):2, (4,5):2, (5,3):2}\n",
    "s = 1\n",
    "t = 5"
   ]
  },
  {
   "cell_type": "markdown",
   "metadata": {},
   "source": [
    "## 決定変数の定義"
   ]
  },
  {
   "cell_type": "code",
   "execution_count": 3,
   "metadata": {},
   "outputs": [],
   "source": [
    "x = {e:pulp.LpVariable(f'x{e[0]}_{e[1]}', lowBound=0, upBound=U[e]) for e in E} # upBound=U[e] 容量制約\n",
    "z = pulp.LpVariable('z')"
   ]
  },
  {
   "cell_type": "markdown",
   "metadata": {},
   "source": [
    "## 問題の定義"
   ]
  },
  {
   "cell_type": "code",
   "execution_count": 4,
   "metadata": {},
   "outputs": [],
   "source": [
    "p = pulp.LpProblem('最大流問題', sense=pulp.LpMaximize)\n",
    "p += z, '目的関数　流量'"
   ]
  },
  {
   "cell_type": "code",
   "execution_count": 5,
   "metadata": {},
   "outputs": [
    {
     "data": {
      "text/plain": [
       "最大流問題:\n",
       "MAXIMIZE\n",
       "1*z + 0\n",
       "SUBJECT TO\n",
       "始点1: x1_2 + x1_3 - x2_1 - z = 0\n",
       "\n",
       "点2: - x1_2 + x2_1 + x2_3 + x2_5 = 0\n",
       "\n",
       "点3: - x1_3 - x2_3 + x3_4 + x3_5 - x5_3 = 0\n",
       "\n",
       "点4: - x3_4 + x4_5 = 0\n",
       "\n",
       "終点5: - x2_5 - x3_5 - x4_5 + x5_3 + z = 0\n",
       "\n",
       "VARIABLES\n",
       "x1_2 <= 4 Continuous\n",
       "x1_3 <= 3 Continuous\n",
       "x2_1 <= 1 Continuous\n",
       "x2_3 <= 4 Continuous\n",
       "x2_5 <= 3 Continuous\n",
       "x3_4 <= 3 Continuous\n",
       "x3_5 <= 2 Continuous\n",
       "x4_5 <= 2 Continuous\n",
       "x5_3 <= 2 Continuous\n",
       "z free Continuous"
      ]
     },
     "execution_count": 5,
     "metadata": {},
     "output_type": "execute_result"
    }
   ],
   "source": [
    "# 流量保存制約\n",
    "for i in V:\n",
    "    inflow = []\n",
    "    outflow = []\n",
    "    for e in E:\n",
    "        if e[1] == i:\n",
    "            inflow.append(e)\n",
    "        if e[0] == i:\n",
    "            outflow.append(e)\n",
    "    net_outflow = pulp.lpSum(x[e] for e in outflow) - pulp.lpSum(x[e] for e in inflow)\n",
    "    if i == s:\n",
    "        p += net_outflow == z, f'始点{i}'\n",
    "    elif i == t:\n",
    "        p += net_outflow == -z, f'終点{i}'\n",
    "    else:\n",
    "        p += net_outflow == 0, f'点{i}'\n",
    "p"
   ]
  },
  {
   "cell_type": "markdown",
   "metadata": {},
   "source": [
    "## 最適解の計算と計算結果の読み取り"
   ]
  },
  {
   "cell_type": "code",
   "execution_count": 6,
   "metadata": {},
   "outputs": [],
   "source": [
    "result = p.solve()"
   ]
  },
  {
   "cell_type": "code",
   "execution_count": 7,
   "metadata": {},
   "outputs": [
    {
     "data": {
      "text/plain": [
       "'Optimal'"
      ]
     },
     "execution_count": 7,
     "metadata": {},
     "output_type": "execute_result"
    }
   ],
   "source": [
    "pulp.LpStatus[result]"
   ]
  },
  {
   "cell_type": "code",
   "execution_count": 8,
   "metadata": {},
   "outputs": [
    {
     "data": {
      "text/plain": [
       "7.0"
      ]
     },
     "execution_count": 8,
     "metadata": {},
     "output_type": "execute_result"
    }
   ],
   "source": [
    "pulp.value(p.objective)"
   ]
  },
  {
   "cell_type": "code",
   "execution_count": 9,
   "metadata": {},
   "outputs": [
    {
     "name": "stdout",
     "output_type": "stream",
     "text": [
      "x1_2 = 4.0\n",
      "x1_3 = 3.0\n",
      "x2_3 = 1.0\n",
      "x2_5 = 3.0\n",
      "x3_4 = 2.0\n",
      "x3_5 = 2.0\n",
      "x4_5 = 2.0\n",
      "z = 7.0\n"
     ]
    }
   ],
   "source": [
    "for v in p.variables():\n",
    "    if pulp.value(v) > 0:\n",
    "        print(f'{v} = {pulp.value(v)}')"
   ]
  },
  {
   "cell_type": "code",
   "execution_count": null,
   "metadata": {},
   "outputs": [],
   "source": []
  }
 ],
 "metadata": {
  "kernelspec": {
   "display_name": "Python 3",
   "language": "python",
   "name": "python3"
  },
  "language_info": {
   "codemirror_mode": {
    "name": "ipython",
    "version": 3
   },
   "file_extension": ".py",
   "mimetype": "text/x-python",
   "name": "python",
   "nbconvert_exporter": "python",
   "pygments_lexer": "ipython3",
   "version": "3.7.0"
  }
 },
 "nbformat": 4,
 "nbformat_minor": 2
}
